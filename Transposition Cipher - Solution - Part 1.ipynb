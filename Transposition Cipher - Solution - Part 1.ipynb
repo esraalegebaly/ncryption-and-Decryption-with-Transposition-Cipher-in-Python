{
 "cells": [
  {
   "cell_type": "code",
   "execution_count": null,
   "id": "7a5aa2f4",
   "metadata": {},
   "outputs": [],
   "source": [
    "class TranspositionCipher(object): \n",
    "        \n",
    "    def __init__(self, key):\n",
    "        # Set the key for the cipher\n",
    "        self.key = key"
   ]
  },
  {
   "cell_type": "code",
   "execution_count": null,
   "id": "6a33c762",
   "metadata": {},
   "outputs": [],
   "source": [
    "cipher = TranspositionCipher(5)\n",
    "cipher.key"
   ]
  }
 ],
 "metadata": {
  "kernelspec": {
   "display_name": "Python 3 (ipykernel)",
   "language": "python",
   "name": "python3"
  },
  "language_info": {
   "codemirror_mode": {
    "name": "ipython",
    "version": 3
   },
   "file_extension": ".py",
   "mimetype": "text/x-python",
   "name": "python",
   "nbconvert_exporter": "python",
   "pygments_lexer": "ipython3",
   "version": "3.8.8"
  }
 },
 "nbformat": 4,
 "nbformat_minor": 5
}
