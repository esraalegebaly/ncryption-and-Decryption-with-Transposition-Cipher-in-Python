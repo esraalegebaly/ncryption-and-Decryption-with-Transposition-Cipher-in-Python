{
 "cells": [
  {
   "cell_type": "code",
   "execution_count": null,
   "id": "b427f972",
   "metadata": {},
   "outputs": [],
   "source": [
    "from math import ceil"
   ]
  },
  {
   "cell_type": "code",
   "execution_count": null,
   "id": "7a5aa2f4",
   "metadata": {},
   "outputs": [],
   "source": [
    "class TranspositionCipher(object): \n",
    "        \n",
    "    def __init__(self, key):\n",
    "        # Set the key for the cipher\n",
    "        self.key = key\n",
    "        \n",
    "                \n",
    "    def encrypt_message(self, message):\n",
    "\n",
    "        # Convert the message to lowercase and split it into a list of characters\n",
    "        message_split = list(message.lower())\n",
    "        \n",
    "        # Determine the length of the message\n",
    "        message_length = len(message_split)\n",
    "\n",
    "        # Initialize the encrypted message as an empty string\n",
    "        message_encrypted = ''\n",
    "\n",
    "        # Determine the number of rows in the encryption grid by calculating the  \n",
    "        # ceiling value after dividing the message length by the key\n",
    "        message_ceil = ceil(message_length/self.key)\n",
    "\n",
    "        # Iterate over each cell and calculate the corresponding index in the message_split variable\n",
    "        for j in range(self.key):\n",
    "            for i in range(message_ceil):\n",
    "                index = j + i * self.key\n",
    "                # Check if the index is within the bounds of the message length\n",
    "                if index < message_length:\n",
    "                    # Add the character at the index position to the encrypted message\n",
    "                    message_encrypted += message_split[index]\n",
    "\n",
    "        # Return the encrypted message\n",
    "        return message_encrypted"
   ]
  },
  {
   "cell_type": "code",
   "execution_count": null,
   "id": "61c07835",
   "metadata": {},
   "outputs": [],
   "source": [
    "cipher = TranspositionCipher(6)\n",
    "cipher.encrypt_message('Learning Python is fun')"
   ]
  }
 ],
 "metadata": {
  "kernelspec": {
   "display_name": "Python 3 (ipykernel)",
   "language": "python",
   "name": "python3"
  },
  "language_info": {
   "codemirror_mode": {
    "name": "ipython",
    "version": 3
   },
   "file_extension": ".py",
   "mimetype": "text/x-python",
   "name": "python",
   "nbconvert_exporter": "python",
   "pygments_lexer": "ipython3",
   "version": "3.8.8"
  }
 },
 "nbformat": 4,
 "nbformat_minor": 5
}
